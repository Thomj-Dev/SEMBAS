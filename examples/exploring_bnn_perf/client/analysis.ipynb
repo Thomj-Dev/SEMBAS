{
 "cells": [
  {
   "cell_type": "markdown",
   "metadata": {},
   "source": [
    "This notebook walks through some basic analysis of the SEMBAS results. Specifically,\n",
    "it is used for determining which model's output can be trusted, and therefore improve\n",
    "reducing the ensemble's error."
   ]
  },
  {
   "cell_type": "code",
   "execution_count": null,
   "metadata": {},
   "outputs": [],
   "source": [
    "import numpy as np\n",
    "import torch.nn as nn\n",
    "import torch\n",
    "import json\n",
    "import os\n",
    "\n",
    "from rtree.index import Index, Property\n",
    "\n",
    "from numpy import ndarray\n",
    "\n",
    "from network import *\n",
    "from data import FutData, f as fut\n",
    "from main import classify_validity"
   ]
  },
  {
   "cell_type": "markdown",
   "metadata": {},
   "source": [
    "# Setup\n",
    "Specify the paths you chose for your models. Note: this will be relative to where\n",
    "this notebook is."
   ]
  },
  {
   "cell_type": "code",
   "execution_count": null,
   "metadata": {},
   "outputs": [],
   "source": [
    "BOUNDARY_PATH = \"../../../.data/boundaries\"\n",
    "MODEL_PATH = \"../../../.models/bnn_expl\" # Same loc as --model-path arg\n",
    "\n",
    "\n",
    "NETWORK_PATH = f\"{MODEL_PATH}/ensemble/\""
   ]
  },
  {
   "cell_type": "code",
   "execution_count": null,
   "metadata": {},
   "outputs": [],
   "source": [
    "def load_boundary(i: int) -> ndarray:\n",
    "    with open(f\"{BOUNDARY_PATH}/boundary_{i}.json\") as f: # TODO\n",
    "        data = json.load(f)\n",
    "    return np.array(data[\"boundary_points\"]), np.array(data[\"boundary_surface\"])\n",
    "\n",
    "\n",
    "def load_boundary_into_rtree(bpoints: ndarray, surface) -> Index:\n",
    "    p = Property()\n",
    "    p.set_dimension(bpoints.shape[1])\n",
    "    \n",
    "    index = Index(properties=p)\n",
    "    for i, (b, n) in enumerate(zip(bpoints, surface)):\n",
    "        index.insert(i, b, (b, n))\n",
    "        \n",
    "    return index\n",
    "    "
   ]
  },
  {
   "cell_type": "code",
   "execution_count": null,
   "metadata": {},
   "outputs": [],
   "source": [
    "def pred_perf(p: ndarray, index: Index) -> tuple[bool, float]:\n",
    "    \"Predicts the performance mode of @p given RTree @index\"\n",
    "    b, n = next(index.nearest(p, 1, 'raw'))\n",
    "    \n",
    "    s = p - b\n",
    "    dist = np.linalg.norm(s)\n",
    "    v: ndarray = s / dist\n",
    "    \n",
    "    return v.dot(n) < 0.0, dist\n",
    "        "
   ]
  },
  {
   "cell_type": "markdown",
   "metadata": {},
   "source": [
    "# Specifying SEMBAS Selected Models\n",
    "The main.rs generates boundary data, but also provides a list of indices to the\n",
    "models that are redundant (i.e. the \"skip-list\"). This skip-list can be used to trim\n",
    "down the number of necessary models to produce a reasonable ensemble.\n",
    "\n",
    "These tools are both early in development and mostly act as a proof-of-concept, so\n",
    "optimization is necessary to get it performing well enough to be viable.\n",
    "\n",
    "Below is the skip_list for the notebook, paste in the indices that were skipped,\n",
    "which can be found in the main.rs standard output at the end of exploring the models.\n",
    "Alternatively, leave it empty or specify which models you wish to skip manually (or\n",
    "edit the model_indices, which specifies which models to include in the ensemble\n",
    "directly)."
   ]
  },
  {
   "cell_type": "code",
   "execution_count": null,
   "metadata": {},
   "outputs": [],
   "source": [
    "skip_list = []"
   ]
  },
  {
   "cell_type": "code",
   "execution_count": null,
   "metadata": {},
   "outputs": [],
   "source": [
    "total_models = len(os.listdir(NETWORK_PATH))\n",
    "print(f\"found {total_models} number of models\")\n",
    "\n",
    "model_indices = [x for x in range(total_models) if x not in skip_list]\n",
    "print(\"Number of selected models:\", len(model_indices))\n",
    "\n",
    "def load(i: int) -> nn.Module:\n",
    "    network = nn.Sequential(ConcreteLinear(2, 50), nn.ReLU(), ConcreteLinear(50, 1))\n",
    "    state = torch.load(f\"{NETWORK_PATH}/network_{i}.model\")\n",
    "    network.load_state_dict(state)\n",
    "    return network\n",
    "\n",
    "dataset = FutData(2**14)\n",
    "\n",
    "boundary_rtrees = [load_boundary_into_rtree(*load_boundary(i)) for i in model_indices]\n",
    "networks = [load(i) for i in model_indices]\n",
    "all_networks = [load(i) for i in range(1000)]\n",
    "\n",
    "# Doesn't use the boundary data, but only uses the mean of the model results\n",
    "# (traditional solution)\n",
    "ensemble_mean_model = lambda x: np.array([model(x).detach() for model in networks]).mean()\n",
    "\n",
    "# Similar to ensemble_mean, but instead of using the SEMBAS selected models it uses\n",
    "# all of them.\n",
    "full_ensemble_mean_model = lambda x: np.array([model(x).detach() for model in all_networks]).mean()\n",
    "\n"
   ]
  },
  {
   "cell_type": "code",
   "execution_count": null,
   "metadata": {},
   "outputs": [],
   "source": [
    "def ensemble_sembas_model(x):\n",
    "    \"\"\"\n",
    "    Ensemble model that applies SEMBAS boundary data for determining which model's\n",
    "    output can be trusted the most.\n",
    "    \"\"\"\n",
    "    result = np.zeros((x.shape[0], 1))\n",
    "    \n",
    "    for i, xi in enumerate(x):\n",
    "        goodboys = []\n",
    "        min_boy = None\n",
    "        k = 0\n",
    "        for tree, model in zip(boundary_rtrees, networks):\n",
    "            sembas_p = dataset.inverse_transform_request(xi).detach().numpy()\n",
    "            cls, dist = pred_perf(sembas_p, tree)\n",
    "            if cls:\n",
    "                goodboys.append(model)\n",
    "            \n",
    "            if min_boy is None or dist < min_boy[1]:\n",
    "                min_boy = (model, dist)\n",
    "            \n",
    "            k += 1\n",
    "        \n",
    "        xi = xi.reshape(1, -1)\n",
    "        if len(goodboys) == 0:\n",
    "            result[i] = min_boy[0](xi).detach()\n",
    "        else:\n",
    "            y_hat = np.array([gb(xi).detach().item() for gb in goodboys])\n",
    "            result[i] = y_hat.mean()\n",
    "            \n",
    "        \n",
    "    return result"
   ]
  },
  {
   "cell_type": "code",
   "execution_count": null,
   "metadata": {},
   "outputs": [],
   "source": [
    "def create_random_ensemble(n: int):\n",
    "    \"\"\"\n",
    "    Generates an ensemble model from a random sub-population of models.\n",
    "    @n is the number of models to include.\n",
    "    \"\"\"\n",
    "    rng = np.random.default_rng()\n",
    "    rand_net = []\n",
    "    picks = rng.choice(np.arange(total_models), n, replace=False)#np.random.randint(0, 100, len(skip_list))\n",
    "    for i in [x for x in picks]:\n",
    "        rand_net.append(load(i))\n",
    "    return lambda x: np.median([model(x).detach() for model in rand_net])"
   ]
  },
  {
   "cell_type": "code",
   "execution_count": null,
   "metadata": {},
   "outputs": [],
   "source": [
    "def test(model, dataset: FutData):\n",
    "    \"Returns the MSE of the model over the @dataset\"\n",
    "    x, y = dataset\n",
    "    pred = model(x).squeeze()\n",
    "    \n",
    "    err:ndarray = y.squeeze() - pred\n",
    "    return (np.power(err, 2.0)).mean()\n"
   ]
  },
  {
   "cell_type": "code",
   "execution_count": null,
   "metadata": {},
   "outputs": [],
   "source": [
    "x, y = dataset\n"
   ]
  },
  {
   "cell_type": "markdown",
   "metadata": {},
   "source": [
    "# Evaluating\n",
    "First, we show the average performance of a randomly selected ensemble, followed by\n",
    "the sembas-selected ensemble performance using the mean of the outputs, ending with \n",
    "the same ensemble with sembas boundary data for selecting trusted outputs."
   ]
  },
  {
   "cell_type": "code",
   "execution_count": null,
   "metadata": {},
   "outputs": [],
   "source": [
    "np.array([test(create_random_ensemble(len(model_indices)), dataset).item() for i in range(100)]).mean()"
   ]
  },
  {
   "cell_type": "code",
   "execution_count": null,
   "metadata": {},
   "outputs": [],
   "source": [
    "test(ensemble_mean_model, dataset)"
   ]
  },
  {
   "cell_type": "code",
   "execution_count": null,
   "metadata": {},
   "outputs": [],
   "source": [
    "# testing performance\n",
    "\n",
    "test(ensemble_sembas_model, dataset)"
   ]
  },
  {
   "cell_type": "code",
   "execution_count": null,
   "metadata": {},
   "outputs": [],
   "source": [
    "np.array([test(full_ensemble_mean_model, dataset).item() for i in range(100)]).mean()"
   ]
  },
  {
   "cell_type": "code",
   "execution_count": null,
   "metadata": {},
   "outputs": [],
   "source": [
    "import matplotlib.pyplot as plt\n",
    "from data import f as fut"
   ]
  },
  {
   "cell_type": "code",
   "execution_count": null,
   "metadata": {},
   "outputs": [],
   "source": [
    "i = 0\n",
    "model_i = model_indices[i]\n",
    "ensemble = create_random_ensemble(1000)\n",
    "model = lambda x: torch.tensor(ensemble(x), dtype=torch.float64)\n",
    "bpoints, surface = load_boundary(model_i)\n",
    "index = boundary_rtrees[i]\n",
    "\n",
    "fig, axes = plt.subplots(ncols=2)\n",
    "axl, axr = axes\n",
    "n = int(dataset.data_size**0.5)\n",
    "\n",
    "x, y = dataset\n",
    "\n",
    "pred = ensemble_sembas_model(x)\n",
    "\n",
    "err: ndarray = y.squeeze() - pred.squeeze()\n",
    "y_cls = np.power(err, 2.0) < 0.5\n",
    "\n",
    "pred_rand = create_random_ensemble(len(model_indices))(x)\n",
    "err_rand: ndarray = y.squeeze() - pred_rand.squeeze()\n",
    "y_cls_rand = np.power(err_rand, 2.0) < 0.5\n",
    "\n",
    "\n",
    "axl.imshow(y_cls.reshape(n, n))\n",
    "axr.imshow(y_cls_rand.reshape(n, n))"
   ]
  }
 ],
 "metadata": {
  "kernelspec": {
   "display_name": ".venv",
   "language": "python",
   "name": "python3"
  },
  "language_info": {
   "codemirror_mode": {
    "name": "ipython",
    "version": 3
   },
   "file_extension": ".py",
   "mimetype": "text/x-python",
   "name": "python",
   "nbconvert_exporter": "python",
   "pygments_lexer": "ipython3",
   "version": "3.11.1"
  }
 },
 "nbformat": 4,
 "nbformat_minor": 2
}
